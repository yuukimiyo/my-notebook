{
 "cells": [
  {
   "cell_type": "code",
   "execution_count": 1,
   "id": "16160d69-cb3d-4135-ac81-0fa7e02da7c0",
   "metadata": {},
   "outputs": [],
   "source": [
    "# !pip install minio"
   ]
  },
  {
   "cell_type": "code",
   "execution_count": 16,
   "id": "60edcf68-910c-4f73-96fe-a46c8a6ebae5",
   "metadata": {},
   "outputs": [],
   "source": [
    "from minio import Minio\n",
    "import bz2"
   ]
  },
  {
   "cell_type": "code",
   "execution_count": 3,
   "id": "0bfb220f-3238-4317-a5a1-ad5be6222a2e",
   "metadata": {},
   "outputs": [],
   "source": [
    "client = Minio(\n",
    "    \"minio:9000\",\n",
    "    access_key=\"xw0xywp7A7QEaMmc9CAp\",\n",
    "    secret_key=\"Hy5gpV0QBCiQuDEb045mOP0gRNkaN5s3GimQFmSV\",\n",
    "    secure=False\n",
    ")"
   ]
  },
  {
   "cell_type": "code",
   "execution_count": 6,
   "id": "778d7035-6f80-45f6-ad5e-1bf720249526",
   "metadata": {},
   "outputs": [
    {
     "name": "stdout",
     "output_type": "stream",
     "text": [
      "test-bucket 2023-07-01 12:30:37.698000+00:00\n",
      "wiki-dump 0001-01-01 00:00:00+00:00\n"
     ]
    }
   ],
   "source": [
    "buckets = client.list_buckets()\n",
    "for bucket in buckets:\n",
    "    print(bucket.name, bucket.creation_date)"
   ]
  },
  {
   "cell_type": "markdown",
   "id": "81a031b8-a4bb-491f-930c-3f8d0ee4b6f1",
   "metadata": {},
   "source": [
    "# シンプルなテキスト読み込み(Stream)"
   ]
  },
  {
   "cell_type": "code",
   "execution_count": 11,
   "id": "0c6b6dad-8f35-42ca-9da1-e4bbe08f2fae",
   "metadata": {},
   "outputs": [],
   "source": [
    "response = client.get_object(\"wiki-dump\", \"jawiki-20230620-pages-articles-multistream-index.txt\")"
   ]
  },
  {
   "cell_type": "code",
   "execution_count": 12,
   "id": "3befb205-50d2-4521-9885-c17b505f2446",
   "metadata": {},
   "outputs": [],
   "source": [
    "with open('my-testfile', 'wb') as file_data:\n",
    "    for d in response.stream(32*1024):\n",
    "        file_data.write(d)"
   ]
  },
  {
   "cell_type": "code",
   "execution_count": 13,
   "id": "e908f564-4c0c-4ac5-b0bb-14d426bde42c",
   "metadata": {},
   "outputs": [],
   "source": [
    "response.close()\n",
    "response.release_conn()"
   ]
  },
  {
   "cell_type": "markdown",
   "id": "c346bc5e-4985-4100-b68d-af12b6f3c351",
   "metadata": {},
   "source": [
    "# bz2テキスト読み込み(Stream)"
   ]
  },
  {
   "cell_type": "code",
   "execution_count": 21,
   "id": "02dfcca5-c39f-4178-a230-952c0690bb18",
   "metadata": {},
   "outputs": [],
   "source": [
    "decomp = bz2.BZ2Decompressor()"
   ]
  },
  {
   "cell_type": "code",
   "execution_count": 23,
   "id": "9742951b-5d3a-4718-8a45-50a57093ab14",
   "metadata": {},
   "outputs": [],
   "source": [
    "response = client.get_object(\"wiki-dump\", \"jawiki-20230620-pages-articles-multistream-index.txt.bz2\")"
   ]
  },
  {
   "cell_type": "code",
   "execution_count": 24,
   "id": "05d5081c-80bd-4b55-b60a-ed3cff40bb5e",
   "metadata": {},
   "outputs": [],
   "source": [
    "with open('my-testfile-by-bz2', 'wb') as file_data:\n",
    "    for d in response.stream(32*1024):\n",
    "        file_data.write(decomp.decompress(d))"
   ]
  },
  {
   "cell_type": "code",
   "execution_count": 25,
   "id": "89d7f4a2-be83-4aea-be16-efed330c308f",
   "metadata": {},
   "outputs": [],
   "source": [
    "response.close()\n",
    "response.release_conn()"
   ]
  }
 ],
 "metadata": {
  "kernelspec": {
   "display_name": "Python 3 (ipykernel)",
   "language": "python",
   "name": "python3"
  },
  "language_info": {
   "codemirror_mode": {
    "name": "ipython",
    "version": 3
   },
   "file_extension": ".py",
   "mimetype": "text/x-python",
   "name": "python",
   "nbconvert_exporter": "python",
   "pygments_lexer": "ipython3",
   "version": "3.11.4"
  }
 },
 "nbformat": 4,
 "nbformat_minor": 5
}
